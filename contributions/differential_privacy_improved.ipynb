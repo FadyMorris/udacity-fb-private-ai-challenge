{
 "cells": [
  {
   "cell_type": "markdown",
   "metadata": {},
   "source": [
    "## Improvement of Impelemntation of Differential Privacy"
   ]
  },
  {
   "cell_type": "markdown",
   "metadata": {},
   "source": [
    "### To open this notebook in Google Colab :\n",
    "[![Open In Colab](https://colab.research.google.com/assets/colab-badge.svg)](https://colab.research.google.com/github/FadyMorris/udacity-fb-private-ai-challenge/blob/master/contributions/differential_privacy_improved.ipynb)"
   ]
  },
  {
   "cell_type": "code",
   "execution_count": 1,
   "metadata": {},
   "outputs": [],
   "source": [
    "import torch"
   ]
  },
  {
   "cell_type": "markdown",
   "metadata": {},
   "source": [
    "## Generate Parallel Databases"
   ]
  },
  {
   "cell_type": "code",
   "execution_count": 2,
   "metadata": {},
   "outputs": [],
   "source": [
    "def get_parallel_db(db, remove_index):\n",
    "    return torch.cat((db[0:remove_index], db[remove_index+1:]))"
   ]
  },
  {
   "cell_type": "code",
   "execution_count": 3,
   "metadata": {},
   "outputs": [],
   "source": [
    "def get_parallel_dbs(db):\n",
    "\n",
    "    parallel_dbs = list()\n",
    "\n",
    "    for i in range(len(db)):\n",
    "        pdb = get_parallel_db(db, i)\n",
    "        parallel_dbs.append(pdb)\n",
    "    \n",
    "    return parallel_dbs"
   ]
  },
  {
   "cell_type": "code",
   "execution_count": 4,
   "metadata": {},
   "outputs": [],
   "source": [
    "def create_db_and_parallels(num_entries):\n",
    "    \n",
    "    db = torch.rand(num_entries) > 0.5\n",
    "    pdbs = get_parallel_dbs(db)\n",
    "    \n",
    "    return db, pdbs"
   ]
  },
  {
   "cell_type": "markdown",
   "metadata": {},
   "source": [
    "# Project: Varying Amounts of Noise"
   ]
  },
  {
   "cell_type": "markdown",
   "metadata": {},
   "source": [
    "In _original query_ (`query_original`) the line :\n",
    "\n",
    "`first_coin_flip = (torch.rand(len(db)) < noise).float()`  \n",
    "\n",
    "creates `first_coin_flip` with probability equal to `noise`. The resulting error is not noticable when specifying `coin2_probability = 0.5` but it becomes very large and significant when setting it to other values.\n",
    "\n",
    "The `noise` is introduced when the _first coin filp_ resuls in a **tail** not a **head**.  \n",
    "Therefore _first_coin_flip_ and _noise_ are complementary.\n",
    "\n",
    "$$p( \\text{first_coin_flip}) = 1 - p(\\text{noise})$$\n",
    "\n",
    "I have modified the line in function `improved_query` to :  \n",
    "`first_coin_flip = (torch.rand(len(db)) < (1-noise)).float()`"
   ]
  },
  {
   "cell_type": "markdown",
   "metadata": {},
   "source": [
    "I've also modified the `query_original` and `query_improved` to accept `coin2_probability` as an input parameter, to test the effect of varaying _second coin_ bias on the final error."
   ]
  },
  {
   "cell_type": "markdown",
   "metadata": {},
   "source": [
    "## Defining Original and Improved Database Queries :"
   ]
  },
  {
   "cell_type": "code",
   "execution_count": 5,
   "metadata": {},
   "outputs": [],
   "source": [
    "# Original Query from Course\n",
    "def query_original(db, noise=0.2, coin2_probability=0.5):\n",
    "    \n",
    "    true_result = torch.mean(db.float())\n",
    "\n",
    "    first_coin_flip = (torch.rand(len(db)) < noise).float()\n",
    "    second_coin_flip = (torch.rand(len(db)) < coin2_probability).float()\n",
    "\n",
    "    augmented_database = db.float() * first_coin_flip + (1 - first_coin_flip) * second_coin_flip\n",
    "\n",
    "    sk_result = augmented_database.float().mean()\n",
    "\n",
    "    private_result = ((sk_result / noise) - coin2_probability) * noise / (1 - noise)\n",
    "\n",
    "    return private_result, true_result"
   ]
  },
  {
   "cell_type": "code",
   "execution_count": 107,
   "metadata": {},
   "outputs": [],
   "source": [
    "# Query after correcting coin1 flip probability\n",
    "def query_improved(db, noise=0.2, coin2_probability=0.5):\n",
    "    \n",
    "    true_result = torch.mean(db.float())\n",
    "\n",
    "    first_coin_flip = (torch.rand(len(db)) < (1-noise)).float()\n",
    "    second_coin_flip = (torch.rand(len(db)) < coin2_probability).float()\n",
    "\n",
    "    augmented_database = db.float() * first_coin_flip + (1 - first_coin_flip) * second_coin_flip\n",
    "\n",
    "    sk_result = augmented_database.float().mean()\n",
    "\n",
    "    private_result = ((sk_result / noise) - coin2_probability) * noise / (1 - noise)\n",
    "\n",
    "    return private_result, true_result"
   ]
  },
  {
   "cell_type": "markdown",
   "metadata": {},
   "source": [
    "## Running Tests on Both Queries"
   ]
  },
  {
   "cell_type": "markdown",
   "metadata": {},
   "source": [
    "To test the modification, create a _parallalel database_ (`db`) and run both the queries on it multiple times (run the code cell below multiple times), while also varying the `noise` and `coin2_probability` parameters, then test the final results(`difference` and `error` percentage.)"
   ]
  },
  {
   "cell_type": "code",
   "execution_count": 111,
   "metadata": {},
   "outputs": [
    {
     "name": "stdout",
     "output_type": "stream",
     "text": [
      "With Noise(Original):tensor(0.6554)\n",
      "Without Noise(Original):tensor(0.4919)\n",
      "Difference(Original):tensor(-0.1635)\n",
      "Error(Original): -33.233395 %\n",
      "--------------------------------------------------\n",
      "With Noise(Improved Query):tensor(0.4926)\n",
      "Without Noise(Improved Query):tensor(0.4919)\n",
      "Difference(Improved Query):tensor(-0.0007)\n",
      "Error(Improved Query): -0.147388 %\n"
     ]
    }
   ],
   "source": [
    "db, _ = create_db_and_parallels(10000)\n",
    "\n",
    "noise = 0.2\n",
    "coin2_probability = 0.7\n",
    "\n",
    "private_result_original, true_result_original = query_original(db, noise=noise, coin2_probability=coin2_probability)\n",
    "difference_original = true_result_original - private_result_original\n",
    "error_original = difference_original / true_result_original * 100\n",
    "print(\"With Noise(Original):\" + str(private_result_original))\n",
    "print(\"Without Noise(Original):\" + str(true_result_original))\n",
    "print(\"Difference(Original):\" + str(difference_original))\n",
    "print(\"Error(Original): %f %%\" % error_original.double())\n",
    "\n",
    "\n",
    "print(\"-\"*50)\n",
    "\n",
    "private_result_improved, true_result_improved = query_improved(db, noise=noise, coin2_probability=coin2_probability)\n",
    "difference_improved = true_result_improved - private_result_improved\n",
    "error_improved = difference_improved / true_result_improved * 100\n",
    "print(\"With Noise(Improved Query):\" + str(private_result_improved))\n",
    "print(\"Without Noise(Improved Query):\" + str(true_result_improved))\n",
    "print(\"Difference(Improved Query):\" + str(difference_improved))\n",
    "print(\"Error(Improved Query): %f %%\" % error_improved.double())\n"
   ]
  }
 ],
 "metadata": {
  "kernelspec": {
   "display_name": "Python 3",
   "language": "python",
   "name": "python3"
  },
  "language_info": {
   "codemirror_mode": {
    "name": "ipython",
    "version": 3
   },
   "file_extension": ".py",
   "mimetype": "text/x-python",
   "name": "python",
   "nbconvert_exporter": "python",
   "pygments_lexer": "ipython3",
   "version": "3.7.4"
  }
 },
 "nbformat": 4,
 "nbformat_minor": 2
}
